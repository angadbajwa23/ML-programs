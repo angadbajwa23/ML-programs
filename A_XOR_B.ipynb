{
 "cells": [
  {
   "cell_type": "code",
   "execution_count": 1,
   "metadata": {},
   "outputs": [],
   "source": [
    "import numpy as np\n",
    "%load_ext autoreload\n",
    "%autoreload 2"
   ]
  },
  {
   "cell_type": "code",
   "execution_count": 38,
   "metadata": {},
   "outputs": [],
   "source": [
    "def sigmoid(z):\n",
    "    return 1/(1+np.exp(-z))"
   ]
  },
  {
   "cell_type": "code",
   "execution_count": 39,
   "metadata": {},
   "outputs": [
    {
     "name": "stdout",
     "output_type": "stream",
     "text": [
      "0.5\n"
     ]
    }
   ],
   "source": [
    "print(sigmoid(0))"
   ]
  },
  {
   "cell_type": "code",
   "execution_count": 40,
   "metadata": {},
   "outputs": [
    {
     "name": "stdout",
     "output_type": "stream",
     "text": [
      "no_of_training_examples=4\n"
     ]
    }
   ],
   "source": [
    "# The 4 training examples by columns\n",
    "X = np.array([[0, 1, 0, 1], [0, 0, 1, 1]])\n",
    "\n",
    "# The outputs of the XOR for every example in X\n",
    "Y = np.array([[0, 1, 1, 0]])\n",
    "\n",
    "# No. of training examples\n",
    "m = X.shape[1]\n",
    "# Set the hyperparameters\n",
    "n_x = 2     #No. of neurons in first layer\n",
    "n_h = 2     #No. of neurons in hidden layer\n",
    "n_y = 1     #No. of neurons in output layer\n",
    "num_of_iters = 1000\n",
    "learning_rate = 0.3\n",
    "print(\"no_of_training_examples=\"+str(m))"
   ]
  },
  {
   "cell_type": "markdown",
   "metadata": {},
   "source": [
    "one hidden layer neural network"
   ]
  },
  {
   "cell_type": "code",
   "execution_count": 41,
   "metadata": {},
   "outputs": [],
   "source": [
    "def initialize_parameters(n_x,n_h,n_y):\n",
    "    \n",
    "    W1=np.random.randn(n_h,n_x)\n",
    "    b1=np.zeros((n_h,1),np.float32)\n",
    "    W2=np.random.randn(n_y,n_h)\n",
    "    b2=np.zeros((n_y,1),np.float32)\n",
    "    \n",
    "    assert(W1.shape == (n_h, n_x))\n",
    "    assert(b1.shape == (n_h, 1))\n",
    "    assert(W2.shape == (n_y, n_h))\n",
    "    assert(b2.shape == (n_y, 1))\n",
    "    \n",
    "    parameters={\n",
    "       \"W1\": W1,\n",
    "       \"b1\": b1,\n",
    "       \"W2\": W2,\n",
    "       \"b2\": b2\n",
    "    }\n",
    "    \n",
    "    return parameters"
   ]
  },
  {
   "cell_type": "code",
   "execution_count": 42,
   "metadata": {
    "scrolled": true
   },
   "outputs": [
    {
     "name": "stdout",
     "output_type": "stream",
     "text": [
      "W1==[[ 1.08021366 -2.03440106]\n",
      " [-1.55257976 -0.45672883]]\n",
      "b1==[[0.]\n",
      " [0.]]\n",
      "W2==[[ 0.26141192 -0.80545721]]\n",
      "b2==[[0.]]\n"
     ]
    }
   ],
   "source": [
    "parameters=initialize_parameters(n_x,n_h,n_y)\n",
    "print(\"W1==\"+str(parameters[\"W1\"]))\n",
    "print(\"b1==\"+str(parameters[\"b1\"]))\n",
    "print(\"W2==\"+str(parameters[\"W2\"]))\n",
    "print(\"b2==\"+str(parameters[\"b2\"]))"
   ]
  },
  {
   "cell_type": "markdown",
   "metadata": {},
   "source": [
    "First activation function tanh\n",
    "Second activation function sigmoid"
   ]
  },
  {
   "cell_type": "code",
   "execution_count": 43,
   "metadata": {},
   "outputs": [],
   "source": [
    "def forward_prop(X,parameters):\n",
    "    W1=parameters[\"W1\"]\n",
    "    b1=parameters[\"b1\"]\n",
    "    W2=parameters[\"W2\"]\n",
    "    b2=parameters[\"b2\"]\n",
    "    \n",
    "    Z1=np.dot(W1,X)+b1\n",
    "    A1=np.tanh(Z1)\n",
    "    \n",
    "    Z2=np.dot(W2,A1)+b2\n",
    "    A2=sigmoid(Z2)\n",
    "    \n",
    "    cache={\n",
    "        \"Z1\":Z1,\n",
    "        \"A1\":A1,\n",
    "        \"Z2\":Z2,\n",
    "        \"A2\":A2,\n",
    "    }\n",
    "    \n",
    "    return A2,cache"
   ]
  },
  {
   "cell_type": "code",
   "execution_count": 44,
   "metadata": {},
   "outputs": [
    {
     "name": "stdout",
     "output_type": "stream",
     "text": [
      "-0.7408739978140908 -0.4026347008697302 0.40462408239445136 0.5961332381541158\n"
     ]
    }
   ],
   "source": [
    "A2,cache=forward_prop(X,parameters)\n",
    "\n",
    "print(np.mean(cache['Z1']) ,np.mean(cache['A1']),np.mean(cache['Z2']),np.mean(cache['A2']))"
   ]
  },
  {
   "cell_type": "code",
   "execution_count": 45,
   "metadata": {},
   "outputs": [],
   "source": [
    "def compute_cost(A2,Y):\n",
    "    m=Y.shape[1] # number of training examples\n",
    "    \n",
    "    cost=-(1/m)*np.sum(np.multiply(Y,np.log(A2))+np.multiply(1-Y,np.log(1-A2)))\n",
    "    \n",
    "    cost = np.squeeze(cost)\n",
    "    \n",
    "    return cost    "
   ]
  },
  {
   "cell_type": "code",
   "execution_count": 46,
   "metadata": {},
   "outputs": [
    {
     "name": "stdout",
     "output_type": "stream",
     "text": [
      "cost==0.6742145045357022\n"
     ]
    }
   ],
   "source": [
    "cost=compute_cost(A2,Y)\n",
    "print(\"cost==\"+str(cost))"
   ]
  },
  {
   "cell_type": "code",
   "execution_count": 47,
   "metadata": {},
   "outputs": [],
   "source": [
    "def backward_prop(X,Y,parameters,cache):\n",
    "    W1=parameters[\"W1\"]\n",
    "    b1=parameters[\"b1\"]\n",
    "    W2=parameters[\"W2\"]\n",
    "    b2=parameters[\"b2\"]\n",
    "    \n",
    "    A1=cache[\"A1\"]\n",
    "    Z1=cache[\"Z1\"]\n",
    "    A2=cache[\"A2\"]\n",
    "    Z2=cache[\"Z2\"]\n",
    "    \n",
    "    m=Y.shape[1]\n",
    "    \n",
    "    dZ2=A2-Y\n",
    "    dW2=(1/m)*np.dot(dZ2,A1.T)\n",
    "    db2=(1/m)*np.sum(dZ2,axis=1,keepdims=True)\n",
    "    \n",
    "    dZ1 = np.multiply(np.dot(W2.T, dZ2), 1-np.power(A1, 2))\n",
    "    dW1=(1/m)*np.dot(dZ1,X.T)\n",
    "    db1=(1/m)*np.sum(dZ1,axis=1,keepdims=True)\n",
    "    \n",
    "    grads = {\"dW1\": dW1,\n",
    "             \"db1\": db1,\n",
    "             \"dW2\": dW2,\n",
    "             \"db2\": db2}\n",
    "        \n",
    "    return grads"
   ]
  },
  {
   "cell_type": "code",
   "execution_count": 48,
   "metadata": {},
   "outputs": [
    {
     "name": "stdout",
     "output_type": "stream",
     "text": [
      "dW1==[[0.01208376 0.01680952]\n",
      " [0.00029598 0.06955339]]\n",
      "db1==[[ 0.04269888]\n",
      " [-0.02186484]]\n",
      "dW2==[[-0.05929137 -0.0397706 ]]\n",
      "db1==[[0.09613324]]\n"
     ]
    }
   ],
   "source": [
    "grads=backward_prop(X,Y,parameters,cache)\n",
    "print(\"dW1==\"+str(grads[\"dW1\"]))\n",
    "print(\"db1==\"+str(grads[\"db1\"]))\n",
    "print(\"dW2==\"+str(grads[\"dW2\"]))\n",
    "print(\"db1==\"+str(grads[\"db2\"]))\n"
   ]
  },
  {
   "cell_type": "code",
   "execution_count": 49,
   "metadata": {},
   "outputs": [],
   "source": [
    "def update_parameters(parameters,grads,learning_rate):\n",
    "    W1=parameters[\"W1\"]\n",
    "    b1=parameters[\"b1\"]\n",
    "    W2=parameters[\"W2\"]\n",
    "    b2=parameters[\"b2\"]\n",
    "    \n",
    "    dW1 = grads[\"dW1\"]\n",
    "    db1 = grads[\"db1\"]\n",
    "    dW2 = grads[\"dW2\"]\n",
    "    db2 = grads[\"db2\"]\n",
    "    \n",
    "    W1=W1-learning_rate*dW1\n",
    "    b1=b1-learning_rate*db1\n",
    "    \n",
    "    W2=W2-learning_rate*dW2\n",
    "    b2=b2-learning_rate*db2\n",
    "    \n",
    "    parameters = {\"W1\": W1,\n",
    "                  \"b1\": b1,\n",
    "                  \"W2\": W2,\n",
    "                  \"b2\": b2}\n",
    "    \n",
    "    return parameters"
   ]
  },
  {
   "cell_type": "code",
   "execution_count": 50,
   "metadata": {},
   "outputs": [
    {
     "name": "stdout",
     "output_type": "stream",
     "text": [
      "W1 = [[ 1.07658853 -2.03944392]\n",
      " [-1.55266855 -0.47759484]]\n",
      "b1 = [[-0.01280966]\n",
      " [ 0.00655945]]\n",
      "W2 = [[ 0.27919934 -0.79352603]]\n",
      "b2 = [[-0.02883997]]\n"
     ]
    }
   ],
   "source": [
    "parameters = update_parameters(parameters, grads,learning_rate)\n",
    "\n",
    "print(\"W1 = \" + str(parameters[\"W1\"]))\n",
    "print(\"b1 = \" + str(parameters[\"b1\"]))\n",
    "print(\"W2 = \" + str(parameters[\"W2\"]))\n",
    "print(\"b2 = \" + str(parameters[\"b2\"]))"
   ]
  },
  {
   "cell_type": "code",
   "execution_count": 51,
   "metadata": {},
   "outputs": [],
   "source": [
    "def model(X,Y,n_x,n_h,n_y,learning_rate,num_of_iters):\n",
    "    \n",
    "    parameters=initialize_parameters(n_x,n_h,n_y)\n",
    "    \n",
    "    for i in range(0,num_of_iters+1):\n",
    "    \n",
    "            A2,cache=forward_prop(X,parameters)\n",
    "    \n",
    "            cost=compute_cost(A2,Y)\n",
    "    \n",
    "            grads=backward_prop(X,Y,parameters,cache)\n",
    "    \n",
    "            parameters=update_parameters(parameters,grads,learning_rate)\n",
    "        \n",
    "            if(i%100==0):\n",
    "                print(\"costafter iteration %i:%f\"%(i,cost))\n",
    "        \n",
    "    \n",
    "    \n",
    "    return parameters"
   ]
  },
  {
   "cell_type": "code",
   "execution_count": 52,
   "metadata": {},
   "outputs": [],
   "source": [
    "def predict(X, parameters):\n",
    "    \n",
    "    A2,cache=forward_prop(X,parameters)\n",
    "    yhat=A2\n",
    "    yhat=np.squeeze(yhat)\n",
    "    \n",
    "    if(yhat>=0.5):\n",
    "        y_predict=1\n",
    "    else:\n",
    "        y_predict=0\n",
    "        \n",
    "    return y_predict"
   ]
  },
  {
   "cell_type": "code",
   "execution_count": 53,
   "metadata": {},
   "outputs": [
    {
     "name": "stdout",
     "output_type": "stream",
     "text": [
      "costafter iteration 0:0.862362\n",
      "costafter iteration 100:0.610073\n",
      "costafter iteration 200:0.296737\n",
      "costafter iteration 300:0.097992\n",
      "costafter iteration 400:0.054189\n",
      "costafter iteration 500:0.036737\n",
      "costafter iteration 600:0.027588\n",
      "costafter iteration 700:0.022011\n",
      "costafter iteration 800:0.018274\n",
      "costafter iteration 900:0.015604\n",
      "costafter iteration 1000:0.013603\n"
     ]
    }
   ],
   "source": [
    "trained_parameters = model(X, Y, n_x, n_h,n_y,learning_rate,num_of_iters)"
   ]
  },
  {
   "cell_type": "code",
   "execution_count": 56,
   "metadata": {},
   "outputs": [
    {
     "name": "stdout",
     "output_type": "stream",
     "text": [
      "Neural Network prediction for example (0, 1) is 1\n"
     ]
    }
   ],
   "source": [
    "X_test = np.array([[0], [1]])\n",
    "y_predict = predict(X_test, trained_parameters)\n",
    "# Print the result\n",
    "print('Neural Network prediction for example ({:d}, {:d}) is {:d}'.format(\n",
    "    X_test[0][0], X_test[1][0], y_predict))"
   ]
  }
 ],
 "metadata": {
  "kernelspec": {
   "display_name": "Python 3",
   "language": "python",
   "name": "python3"
  },
  "language_info": {
   "codemirror_mode": {
    "name": "ipython",
    "version": 3
   },
   "file_extension": ".py",
   "mimetype": "text/x-python",
   "name": "python",
   "nbconvert_exporter": "python",
   "pygments_lexer": "ipython3",
   "version": "3.7.4"
  }
 },
 "nbformat": 4,
 "nbformat_minor": 2
}
